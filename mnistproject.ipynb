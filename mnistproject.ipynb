{
 "cells": [
  {
   "cell_type": "markdown",
   "metadata": {
    "id": "VsCgYsR4VG_f"
   },
   "source": [
    "# **MNIST Handwritten Digit Classification using a CNN**"
   ]
  },
  {
   "cell_type": "markdown",
   "metadata": {
    "id": "z-qT91QwV1MS"
   },
   "source": [
    "## **Introduction**"
   ]
  },
  {
   "cell_type": "markdown",
   "metadata": {
    "id": "EtCRRgiVXZal"
   },
   "source": [
    "## **Introduction to the MNIST Dataset**"
   ]
  },
  {
   "cell_type": "markdown",
   "metadata": {
    "id": "6IZc8sO2Xmw2"
   },
   "source": [
    "The **MNIST** dataset is an acronym that stands for the **Modified National Institute of Standards and Technology** dataset.\n",
    "\n",
    "*   **This dataset consists of 60,000 grayscale images**, which are small 28x28 pixel images. \n",
    "<br> **These are images of handwritten digits from 0 to 9.**\n",
    "*   **The task is to correctly classify the image of a handwritten digit into the right number**, that is - one of the 10 numbers from 0 to 9.\n",
    "\n",
    "\n",
    "\n"
   ]
  },
  {
   "cell_type": "markdown",
   "metadata": {
    "id": "Yyn-CPLr18cl"
   },
   "source": [
    "## **Importing the Libraries**"
   ]
  },
  {
   "cell_type": "code",
   "execution_count": null,
   "metadata": {
    "id": "3c1qnD0B1_Qg"
   },
   "outputs": [],
   "source": [
    "import numpy as np\n",
    "import matplotlib.pyplot as plt\n",
    "import seaborn as sns\n",
    "import math\n",
    "\n",
    "import tensorflow as tf\n",
    "\n",
    "# Keras Sequential Model\n",
    "from tensorflow.keras.models import Sequential\n",
    "\n",
    "# Importing all the different layers and optimizers\n",
    "from tensorflow.keras.layers import Dense, Dropout, Flatten, Conv2D, MaxPooling2D, BatchNormalization, Activation, LeakyReLU\n",
    "from tensorflow.keras.optimizers import Adam,SGD\n",
    "\n",
    "# The below code can be used to ignore the warnings that may occur due to deprecations\n",
    "import warnings\n",
    "warnings.filterwarnings(\"ignore\")"
   ]
  },
  {
   "cell_type": "code",
   "execution_count": null,
   "metadata": {
    "id": "UEIh28qXgK0D"
   },
   "outputs": [],
   "source": [
    "import random\n",
    "np.random.seed(1) #for numpy\n",
    "random.seed(1) \n",
    "tf.random.set_seed(1) #for tensorflow\n",
    "\n",
    "\n"
   ]
  },
  {
   "cell_type": "markdown",
   "metadata": {
    "id": "rX8_AD9YyICz"
   },
   "source": [
    "## **Loading the Dataset**"
   ]
  },
  {
   "cell_type": "markdown",
   "metadata": {
    "id": "gz5IIHlpyMX6"
   },
   "source": [
    "*   The MNIST dataset is already present in TensorFlow and Keras, in the form of an **N-dimensional Numpy array**, so we can directly import the dataset from the package and use it.\n",
    "*   The dataset can be imported as shown below: <br>\n",
    "`from tensorflow.keras.datasets import mnist`<br>\n",
    "`mnist.load_data()`\n",
    "*   **mnist.load_data()** returns both the train and test data. The train data consists of 60,000 images in the form of Numpy arrays, while the test data consists of 10,000 images as Numpy arrays.\n",
    "\n",
    "\n",
    "\n"
   ]
  },
  {
   "cell_type": "code",
   "execution_count": null,
   "metadata": {
    "colab": {
     "base_uri": "https://localhost:8080/"
    },
    "id": "6-p5r-J3PoMQ",
    "outputId": "11616845-da10-42a8-ce5b-c7798f9a66df"
   },
   "outputs": [
    {
     "name": "stdout",
     "output_type": "stream",
     "text": [
      "Downloading data from https://storage.googleapis.com/tensorflow/tf-keras-datasets/train-labels-idx1-ubyte.gz\n",
      "32768/29515 [=================================] - 0s 0us/step\n",
      "40960/29515 [=========================================] - 0s 0us/step\n",
      "Downloading data from https://storage.googleapis.com/tensorflow/tf-keras-datasets/train-images-idx3-ubyte.gz\n",
      "26427392/26421880 [==============================] - 0s 0us/step\n",
      "26435584/26421880 [==============================] - 0s 0us/step\n",
      "Downloading data from https://storage.googleapis.com/tensorflow/tf-keras-datasets/t10k-labels-idx1-ubyte.gz\n",
      "16384/5148 [===============================================================================================] - 0s 0us/step\n",
      "Downloading data from https://storage.googleapis.com/tensorflow/tf-keras-datasets/t10k-images-idx3-ubyte.gz\n",
      "4423680/4422102 [==============================] - 0s 0us/step\n",
      "4431872/4422102 [==============================] - 0s 0us/step\n"
     ]
    }
   ],
   "source": [
    "# Loading the data\n",
    "from tensorflow.keras.datasets import fashion_mnist\n",
    "\n",
    "#tf.keras.datasets.fashion_mnist.load_data()\n",
    "(X_train, y_train), (X_test, y_test) = fashion_mnist.load_data()"
   ]
  },
  {
   "cell_type": "code",
   "execution_count": null,
   "metadata": {
    "colab": {
     "base_uri": "https://localhost:8080/"
    },
    "id": "5TuOEBZ13OlM",
    "outputId": "b52d66f7-3e8f-4f26-ea9e-bc20434d8454"
   },
   "outputs": [
    {
     "data": {
      "text/plain": [
       "(60000, 28, 28)"
      ]
     },
     "execution_count": 5,
     "metadata": {},
     "output_type": "execute_result"
    }
   ],
   "source": [
    "X_train.shape"
   ]
  },
  {
   "cell_type": "markdown",
   "metadata": {
    "id": "AT-XPKho4CGQ"
   },
   "source": [
    "Here the data is stored in a **3-dimensional Numpy array**. \n",
    "- The first dimension **60000** denotes **the number of images in the training data**, and each image is stacked on top of the other, making it a 3-dimensional Numpy array.\n",
    "- The second and third dimensions **28, 28** denote the number of pixels along the height and width of the 2-dimensional image."
   ]
  },
  {
   "cell_type": "markdown",
   "metadata": {
    "id": "zF7ZRSFO4QBL"
   },
   "source": [
    "Below is a 2-dimensional Numpy representation (the pixelmap) of the first image in the training data. Each image is represented by 28x28 square pixel values."
   ]
  },
  {
   "cell_type": "code",
   "execution_count": null,
   "metadata": {
    "colab": {
     "base_uri": "https://localhost:8080/"
    },
    "id": "rzhqoEI43W0c",
    "outputId": "8d1f262a-a269-4549-c302-22e653a5634d"
   },
   "outputs": [
    {
     "data": {
      "text/plain": [
       "array([[  0,   0,   0,   0,   0,   0,   0,   0,   0,   0,   0,   0,   0,\n",
       "          0,   0,   0,   0,   0,   0,   0,   0,   0,   0,   0,   0,   0,\n",
       "          0,   0],\n",
       "       [  0,   0,   0,   0,   0,   0,   0,   0,   0,   0,   0,   0,   0,\n",
       "          0,   0,   0,   0,   0,   0,   0,   0,   0,   0,   0,   0,   0,\n",
       "          0,   0],\n",
       "       [  0,   0,   0,   0,   0,   0,   0,   0,   0,   0,   0,   0,   0,\n",
       "          0,   0,   0,   0,   0,   0,   0,   0,   0,   0,   0,   0,   0,\n",
       "          0,   0],\n",
       "       [  0,   0,   0,   0,   0,   0,   0,   0,   0,   0,   0,   0,   1,\n",
       "          0,   0,  13,  73,   0,   0,   1,   4,   0,   0,   0,   0,   1,\n",
       "          1,   0],\n",
       "       [  0,   0,   0,   0,   0,   0,   0,   0,   0,   0,   0,   0,   3,\n",
       "          0,  36, 136, 127,  62,  54,   0,   0,   0,   1,   3,   4,   0,\n",
       "          0,   3],\n",
       "       [  0,   0,   0,   0,   0,   0,   0,   0,   0,   0,   0,   0,   6,\n",
       "          0, 102, 204, 176, 134, 144, 123,  23,   0,   0,   0,   0,  12,\n",
       "         10,   0],\n",
       "       [  0,   0,   0,   0,   0,   0,   0,   0,   0,   0,   0,   0,   0,\n",
       "          0, 155, 236, 207, 178, 107, 156, 161, 109,  64,  23,  77, 130,\n",
       "         72,  15],\n",
       "       [  0,   0,   0,   0,   0,   0,   0,   0,   0,   0,   0,   1,   0,\n",
       "         69, 207, 223, 218, 216, 216, 163, 127, 121, 122, 146, 141,  88,\n",
       "        172,  66],\n",
       "       [  0,   0,   0,   0,   0,   0,   0,   0,   0,   1,   1,   1,   0,\n",
       "        200, 232, 232, 233, 229, 223, 223, 215, 213, 164, 127, 123, 196,\n",
       "        229,   0],\n",
       "       [  0,   0,   0,   0,   0,   0,   0,   0,   0,   0,   0,   0,   0,\n",
       "        183, 225, 216, 223, 228, 235, 227, 224, 222, 224, 221, 223, 245,\n",
       "        173,   0],\n",
       "       [  0,   0,   0,   0,   0,   0,   0,   0,   0,   0,   0,   0,   0,\n",
       "        193, 228, 218, 213, 198, 180, 212, 210, 211, 213, 223, 220, 243,\n",
       "        202,   0],\n",
       "       [  0,   0,   0,   0,   0,   0,   0,   0,   0,   1,   3,   0,  12,\n",
       "        219, 220, 212, 218, 192, 169, 227, 208, 218, 224, 212, 226, 197,\n",
       "        209,  52],\n",
       "       [  0,   0,   0,   0,   0,   0,   0,   0,   0,   0,   6,   0,  99,\n",
       "        244, 222, 220, 218, 203, 198, 221, 215, 213, 222, 220, 245, 119,\n",
       "        167,  56],\n",
       "       [  0,   0,   0,   0,   0,   0,   0,   0,   0,   4,   0,   0,  55,\n",
       "        236, 228, 230, 228, 240, 232, 213, 218, 223, 234, 217, 217, 209,\n",
       "         92,   0],\n",
       "       [  0,   0,   1,   4,   6,   7,   2,   0,   0,   0,   0,   0, 237,\n",
       "        226, 217, 223, 222, 219, 222, 221, 216, 223, 229, 215, 218, 255,\n",
       "         77,   0],\n",
       "       [  0,   3,   0,   0,   0,   0,   0,   0,   0,  62, 145, 204, 228,\n",
       "        207, 213, 221, 218, 208, 211, 218, 224, 223, 219, 215, 224, 244,\n",
       "        159,   0],\n",
       "       [  0,   0,   0,   0,  18,  44,  82, 107, 189, 228, 220, 222, 217,\n",
       "        226, 200, 205, 211, 230, 224, 234, 176, 188, 250, 248, 233, 238,\n",
       "        215,   0],\n",
       "       [  0,  57, 187, 208, 224, 221, 224, 208, 204, 214, 208, 209, 200,\n",
       "        159, 245, 193, 206, 223, 255, 255, 221, 234, 221, 211, 220, 232,\n",
       "        246,   0],\n",
       "       [  3, 202, 228, 224, 221, 211, 211, 214, 205, 205, 205, 220, 240,\n",
       "         80, 150, 255, 229, 221, 188, 154, 191, 210, 204, 209, 222, 228,\n",
       "        225,   0],\n",
       "       [ 98, 233, 198, 210, 222, 229, 229, 234, 249, 220, 194, 215, 217,\n",
       "        241,  65,  73, 106, 117, 168, 219, 221, 215, 217, 223, 223, 224,\n",
       "        229,  29],\n",
       "       [ 75, 204, 212, 204, 193, 205, 211, 225, 216, 185, 197, 206, 198,\n",
       "        213, 240, 195, 227, 245, 239, 223, 218, 212, 209, 222, 220, 221,\n",
       "        230,  67],\n",
       "       [ 48, 203, 183, 194, 213, 197, 185, 190, 194, 192, 202, 214, 219,\n",
       "        221, 220, 236, 225, 216, 199, 206, 186, 181, 177, 172, 181, 205,\n",
       "        206, 115],\n",
       "       [  0, 122, 219, 193, 179, 171, 183, 196, 204, 210, 213, 207, 211,\n",
       "        210, 200, 196, 194, 191, 195, 191, 198, 192, 176, 156, 167, 177,\n",
       "        210,  92],\n",
       "       [  0,   0,  74, 189, 212, 191, 175, 172, 175, 181, 185, 188, 189,\n",
       "        188, 193, 198, 204, 209, 210, 210, 211, 188, 188, 194, 192, 216,\n",
       "        170,   0],\n",
       "       [  2,   0,   0,   0,  66, 200, 222, 237, 239, 242, 246, 243, 244,\n",
       "        221, 220, 193, 191, 179, 182, 182, 181, 176, 166, 168,  99,  58,\n",
       "          0,   0],\n",
       "       [  0,   0,   0,   0,   0,   0,   0,  40,  61,  44,  72,  41,  35,\n",
       "          0,   0,   0,   0,   0,   0,   0,   0,   0,   0,   0,   0,   0,\n",
       "          0,   0],\n",
       "       [  0,   0,   0,   0,   0,   0,   0,   0,   0,   0,   0,   0,   0,\n",
       "          0,   0,   0,   0,   0,   0,   0,   0,   0,   0,   0,   0,   0,\n",
       "          0,   0],\n",
       "       [  0,   0,   0,   0,   0,   0,   0,   0,   0,   0,   0,   0,   0,\n",
       "          0,   0,   0,   0,   0,   0,   0,   0,   0,   0,   0,   0,   0,\n",
       "          0,   0]], dtype=uint8)"
      ]
     },
     "execution_count": 6,
     "metadata": {},
     "output_type": "execute_result"
    }
   ],
   "source": [
    "X_train[0]"
   ]
  },
  {
   "cell_type": "code",
   "execution_count": null,
   "metadata": {
    "colab": {
     "base_uri": "https://localhost:8080/"
    },
    "id": "9bz24_eE6z0d",
    "outputId": "27709ec6-a0aa-4f42-cd69-f7ed762c38cf"
   },
   "outputs": [
    {
     "data": {
      "text/plain": [
       "9"
      ]
     },
     "execution_count": 7,
     "metadata": {},
     "output_type": "execute_result"
    }
   ],
   "source": [
    "y_train[0]"
   ]
  },
  {
   "cell_type": "markdown",
   "metadata": {
    "id": "knrZcGyy7GJ9"
   },
   "source": [
    "The **target labels** are numerical digits between 0 to 9. "
   ]
  },
  {
   "cell_type": "code",
   "execution_count": null,
   "metadata": {
    "colab": {
     "base_uri": "https://localhost:8080/"
    },
    "id": "Jf61XMWF64GA",
    "outputId": "38bbff86-f5ca-47fe-9acc-440aa70adf0d"
   },
   "outputs": [
    {
     "data": {
      "text/plain": [
       "(10000, 28, 28)"
      ]
     },
     "execution_count": 8,
     "metadata": {},
     "output_type": "execute_result"
    }
   ],
   "source": [
    "X_test.shape"
   ]
  },
  {
   "cell_type": "markdown",
   "metadata": {
    "id": "QYtWc1tA7dQr"
   },
   "source": [
    "The test dataset, on the other hand, has **10,000 images**. Each image, as before, is a 28x28 square image."
   ]
  },
  {
   "cell_type": "markdown",
   "metadata": {
    "id": "qMou6LbazmIV"
   },
   "source": [
    "## **Data Visualization**"
   ]
  },
  {
   "cell_type": "markdown",
   "metadata": {
    "id": "Hy4AFeNm77qB"
   },
   "source": [
    "### **Converting the Numpy arrays to images and visualizing a few random images**"
   ]
  },
  {
   "cell_type": "code",
   "execution_count": null,
   "metadata": {
    "colab": {
     "base_uri": "https://localhost:8080/",
     "height": 467
    },
    "id": "RG5VFBKV7Yu9",
    "outputId": "f4960eac-9522-4566-f6a7-47e35c2e5381"
   },
   "outputs": [
    {
     "data": {
      "image/png": "[encoded data removed]",
      "text/plain": [
       "<Figure size 720x576 with 15 Axes>"
      ]
     },
     "metadata": {
      "needs_background": "light"
     },
     "output_type": "display_data"
    }
   ],
   "source": [
    "num_classes=10                                                                  # Number of Classes\n",
    "categories=np.unique(y_train)                                                   # Obtaing the unique classes from y_train\n",
    "rows = 3                                                                        # Defining number of rows=3\n",
    "cols = 5                                                                        # Defining number of columns=4\n",
    "fig = plt.figure(figsize=(10, 8))                                               # Defining the figure size to 10x8\n",
    "for i in range(cols):\n",
    "    for j in range(rows):\n",
    "        random_index = np.random.randint(0, len(y_train))                       # Generating random indices from the data and plotting the images\n",
    "        ax = fig.add_subplot(rows, cols, i * rows + j + 1)                      # Adding subplots with 3 rows and 4 columns\n",
    "        ax.imshow(X_train[random_index, :], cmap=plt.get_cmap('gray'))          # Plotting the image using cmap=gray\n",
    "        ax.set_title(categories[y_train[random_index]])\n",
    "plt.show()"
   ]
  },
  {
   "cell_type": "code",
   "execution_count": null,
   "metadata": {
    "colab": {
     "base_uri": "https://localhost:8080/",
     "height": 265
    },
    "id": "HO6xVsJmBaC8",
    "outputId": "4931c0ce-c35f-4cc1-dd67-7fe834988bb8"
   },
   "outputs": [
    {
     "data": {
      "image/png": "[encoded data removed]",
      "text/plain": [
       "<Figure size 432x288 with 1 Axes>"
      ]
     },
     "metadata": {
      "needs_background": "light"
     },
     "output_type": "display_data"
    }
   ],
   "source": [
    "# Plot distribution of each category \n",
    "count_plot = sns.countplot(y_train)"
   ]
  },
  {
   "cell_type": "markdown",
   "metadata": {
    "id": "64JijEDCBppW"
   },
   "source": [
    "We observe that **the dataset appears to be quite balanced**, with each category having approximately the same number of images. \n",
    "\n",
    "So **accuracy should be a good evaluation metric** for the model performance in this case study."
   ]
  },
  {
   "cell_type": "markdown",
   "metadata": {
    "id": "FonUtBJP9Pre"
   },
   "source": [
    "## **Data Preparation**"
   ]
  },
  {
   "cell_type": "markdown",
   "metadata": {
    "id": "1cYYxIvH9dNm"
   },
   "source": [
    "In the data preparation stage, **we generally reshape the dataset to have a single channel** and **we also normalize the feature inputs.**\n",
    "\n",
    "Normalization is highly recommended as it has the following benefits when training a neural network model:\n",
    "\n",
    "1. **Normalization makes the training faster and reduces the chances of getting stuck at a local optima.**\n",
    "3. **Weight decay and estimation can be done more conveniently** with normalized inputs.\n",
    "4. In deep neural networks, **normalization helps to avoid the Vanishing/Exploding gradient problem** The Vanishing/Exploding gradient problem occurs when very small or very large error gradients accumulate, and that results in either extremely small or very large updates to neural network model weights during the training process. This makes a model unstable and unable to learn from the training data."
   ]
  },
  {
   "cell_type": "markdown",
   "metadata": {
    "id": "6zF9PSHDEp4t"
   },
   "source": [
    "As we already know, the images are in grayscale, so let us **reshape the arrays to just have a single channel**."
   ]
  },
  {
   "cell_type": "code",
   "execution_count": null,
   "metadata": {
    "id": "_IJwpIPzFhi5"
   },
   "outputs": [],
   "source": [
    "# Reshape dataset to have a single channel\n",
    "X_train = X_train.reshape((X_train.shape[0], 28, 28, 1))\n",
    "X_test = X_test.reshape((X_test.shape[0], 28, 28, 1))"
   ]
  },
  {
   "cell_type": "markdown",
   "metadata": {
    "id": "4KOZB5QK-Bnp"
   },
   "source": [
    "Since the **image pixel values range from 0-255**, our method of normalization here will be **scaling** - we shall **divide all the pixel values by 255 to standardize the images to have values between 0-1.**"
   ]
  },
  {
   "cell_type": "code",
   "execution_count": null,
   "metadata": {
    "id": "n5FMF4iy8TvJ"
   },
   "outputs": [],
   "source": [
    "# Normalizing the image pixels\n",
    "X_train_normalized = X_train.astype('float32')/255.0\n",
    "X_test_normalized = X_test.astype('float32')/255.0"
   ]
  },
  {
   "cell_type": "markdown",
   "metadata": {
    "id": "29EVGIZY-R2k"
   },
   "source": [
    "Since this is a **10-class classification problem**, **the output layer should have 10 neurons** which will provide us with the probabilities of the input image belonging to each of those 10 classes. Therefore, we also need to create a **one-hot encoded representation for the target classes.**"
   ]
  },
  {
   "cell_type": "code",
   "execution_count": null,
   "metadata": {
    "id": "VLUkl-jW8V0J"
   },
   "outputs": [],
   "source": [
    "# Creating one-hot encoded representation of target labels\n",
    "# We can do this by using this utility function - https://www.tensorflow.org/api_docs/python/tf/keras/utils/to_categorical\n",
    "# to_categorical() function is also explained in the Neural Networks Module\n",
    "\n",
    "y_train_encoded = tf.keras.utils.to_categorical(y_train)\n",
    "y_test_encoded = tf.keras.utils.to_categorical(y_test)"
   ]
  },
  {
   "cell_type": "code",
   "execution_count": null,
   "metadata": {
    "colab": {
     "base_uri": "https://localhost:8080/"
    },
    "id": "oGDf9DUehf1m",
    "outputId": "01327194-9a46-4274-dca2-098c376e1d90"
   },
   "outputs": [
    {
     "data": {
      "text/plain": [
       "(60000, 10)"
      ]
     },
     "execution_count": 16,
     "metadata": {},
     "output_type": "execute_result"
    }
   ],
   "source": [
    "y_train_encoded.shape"
   ]
  },
  {
   "cell_type": "code",
   "execution_count": null,
   "metadata": {
    "colab": {
     "base_uri": "https://localhost:8080/"
    },
    "id": "PHwxqml1kB8z",
    "outputId": "08bbbde6-1774-4b07-f225-a7cb06f48223"
   },
   "outputs": [
    {
     "data": {
      "text/plain": [
       "(10000, 10)"
      ]
     },
     "execution_count": 17,
     "metadata": {},
     "output_type": "execute_result"
    }
   ],
   "source": [
    "y_test_encoded.shape"
   ]
  },
  {
   "cell_type": "markdown",
   "metadata": {
    "id": "svJYVbVCDSYJ"
   },
   "source": [
    "## **Model Building - Artificial Neural Network (ANN)**"
   ]
  },
  {
   "cell_type": "code",
   "execution_count": null,
   "metadata": {
    "id": "Cm_6LevfdhOs"
   },
   "outputs": [],
   "source": [
    "# Fixing the seed for random number generators\n",
    "import random\n",
    "np.random.seed(1)\n",
    "random.seed(1)\n",
    "tf.random.set_seed(1)"
   ]
  },
  {
   "cell_type": "code",
   "execution_count": null,
   "metadata": {
    "id": "kj2YqNuxlAeG"
   },
   "outputs": [],
   "source": [
    "cnn_model = Sequential()\n",
    "cnn_model.add(Conv2D(64, (3,3), activation='relu', input_shape=(28, 28, 1), padding = 'same'))\n",
    "cnn_model.add(MaxPooling2D(pool_size=(2,2),padding = 'same'))\n",
    "#cnn_model.add(BatchNormalization())\n",
    "cnn_model.add(Conv2D(32, (3,3), activation='relu', padding = 'same'))\n",
    "cnn_model.add(MaxPooling2D(pool_size=(2,2),padding = 'same'))\n",
    "cnn_model.add(BatchNormalization())\n",
    "#cnn_model.add(Conv2D(32, (3,3), activation='relu', padding = 'same'))\n",
    "#cnn_model.add(MaxPooling2D(2,2))\n",
    "cnn_model.add(Conv2D(16, (3,3), activation='relu', padding = 'same'))\n",
    "cnn_model.add(Flatten())\n",
    "cnn_model.add(Dense(32, activation='relu'))\n",
    "cnn_model.add(Dropout(0.25))\n",
    "cnn_model.add(Dense(16, activation='relu'))\n",
    "#cnn_model.add(Dropout(0.25))\n",
    "#cnn_model.add(Dense(32, activation='relu'))\n",
    "cnn_model.add(Dense(10, activation='softmax'))"
   ]
  },
  {
   "cell_type": "code",
   "execution_count": null,
   "metadata": {
    "colab": {
     "base_uri": "https://localhost:8080/"
    },
    "id": "mViRlWF_lAg1",
    "outputId": "8f8e7f08-ca89-4b68-e04a-12e0a608e93e"
   },
   "outputs": [
    {
     "name": "stdout",
     "output_type": "stream",
     "text": [
      "Model: \"sequential\"\n",
      "_________________________________________________________________\n",
      " Layer (type)                Output Shape              Param #   \n",
      "=================================================================\n",
      " conv2d (Conv2D)             (None, 28, 28, 64)        640       \n",
      "                                                                 \n",
      " max_pooling2d (MaxPooling2D  (None, 14, 14, 64)       0         \n",
      " )                                                               \n",
      "                                                                 \n",
      " conv2d_1 (Conv2D)           (None, 14, 14, 32)        18464     \n",
      "                                                                 \n",
      " max_pooling2d_1 (MaxPooling  (None, 7, 7, 32)         0         \n",
      " 2D)                                                             \n",
      "                                                                 \n",
      " batch_normalization (BatchN  (None, 7, 7, 32)         128       \n",
      " ormalization)                                                   \n",
      "                                                                 \n",
      " conv2d_2 (Conv2D)           (None, 7, 7, 16)          4624      \n",
      "                                                                 \n",
      " flatten (Flatten)           (None, 784)               0         \n",
      "                                                                 \n",
      " dense (Dense)               (None, 32)                25120     \n",
      "                                                                 \n",
      " dropout (Dropout)           (None, 32)                0         \n",
      "                                                                 \n",
      " dense_1 (Dense)             (None, 16)                528       \n",
      "                                                                 \n",
      " dense_2 (Dense)             (None, 10)                170       \n",
      "                                                                 \n",
      "=================================================================\n",
      "Total params: 49,674\n",
      "Trainable params: 49,610\n",
      "Non-trainable params: 64\n",
      "_________________________________________________________________\n"
     ]
    }
   ],
   "source": [
    "cnn_model.compile(loss=\"binary_crossentropy\", optimizer=\"adam\", metrics = ['accuracy'])\n",
    "cnn_model.summary()"
   ]
  },
  {
   "cell_type": "code",
   "execution_count": null,
   "metadata": {
    "colab": {
     "base_uri": "https://localhost:8080/"
    },
    "id": "gkT8NPkNlAjh",
    "outputId": "f78aa126-975a-4a51-fae8-427cc2727186"
   },
   "outputs": [
    {
     "name": "stdout",
     "output_type": "stream",
     "text": [
      "Epoch 1/5\n",
      "1500/1500 - 6s - loss: 0.1300 - accuracy: 0.7419 - val_loss: 0.0635 - val_accuracy: 0.8754 - 6s/epoch - 4ms/step\n",
      "Epoch 2/5\n",
      "1500/1500 - 5s - loss: 0.0755 - accuracy: 0.8531 - val_loss: 0.0660 - val_accuracy: 0.8599 - 5s/epoch - 3ms/step\n",
      "Epoch 3/5\n",
      "1500/1500 - 5s - loss: 0.0651 - accuracy: 0.8743 - val_loss: 0.0757 - val_accuracy: 0.8509 - 5s/epoch - 3ms/step\n",
      "Epoch 4/5\n",
      "1500/1500 - 5s - loss: 0.0588 - accuracy: 0.8870 - val_loss: 0.0489 - val_accuracy: 0.9039 - 5s/epoch - 4ms/step\n",
      "Epoch 5/5\n",
      "1500/1500 - 5s - loss: 0.0538 - accuracy: 0.8939 - val_loss: 0.0498 - val_accuracy: 0.9028 - 5s/epoch - 3ms/step\n"
     ]
    }
   ],
   "source": [
    "model_history = cnn_model.fit(X_train_normalized,y_train_encoded, \n",
    "                              validation_split=0.2, epochs=5, verbose=2)\n",
    "                        "
   ]
  },
  {
   "cell_type": "code",
   "execution_count": null,
   "metadata": {
    "id": "quy6hVEcqPcN"
   },
   "outputs": [],
   "source": [
    "from tensorflow.keras import backend\n",
    "backend.clear_session()"
   ]
  },
  {
   "cell_type": "code",
   "execution_count": null,
   "metadata": {
    "colab": {
     "base_uri": "https://localhost:8080/"
    },
    "id": "1v-oyLGOlAlt",
    "outputId": "fa973dc8-4b20-4c8d-aa71-a7de31e2d80b"
   },
   "outputs": [
    {
     "name": "stdout",
     "output_type": "stream",
     "text": [
      "Model: \"vgg16\"\n",
      "_________________________________________________________________\n",
      " Layer (type)                Output Shape              Param #   \n",
      "=================================================================\n",
      " input_1 (InputLayer)        [(None, 224, 224, 3)]     0         \n",
      "                                                                 \n",
      " block1_conv1 (Conv2D)       (None, 224, 224, 64)      1792      \n",
      "                                                                 \n",
      " block1_conv2 (Conv2D)       (None, 224, 224, 64)      36928     \n",
      "                                                                 \n",
      " block1_pool (MaxPooling2D)  (None, 112, 112, 64)      0         \n",
      "                                                                 \n",
      " block2_conv1 (Conv2D)       (None, 112, 112, 128)     73856     \n",
      "                                                                 \n",
      " block2_conv2 (Conv2D)       (None, 112, 112, 128)     147584    \n",
      "                                                                 \n",
      " block2_pool (MaxPooling2D)  (None, 56, 56, 128)       0         \n",
      "                                                                 \n",
      " block3_conv1 (Conv2D)       (None, 56, 56, 256)       295168    \n",
      "                                                                 \n",
      " block3_conv2 (Conv2D)       (None, 56, 56, 256)       590080    \n",
      "                                                                 \n",
      " block3_conv3 (Conv2D)       (None, 56, 56, 256)       590080    \n",
      "                                                                 \n",
      " block3_pool (MaxPooling2D)  (None, 28, 28, 256)       0         \n",
      "                                                                 \n",
      " block4_conv1 (Conv2D)       (None, 28, 28, 512)       1180160   \n",
      "                                                                 \n",
      " block4_conv2 (Conv2D)       (None, 28, 28, 512)       2359808   \n",
      "                                                                 \n",
      " block4_conv3 (Conv2D)       (None, 28, 28, 512)       2359808   \n",
      "                                                                 \n",
      " block4_pool (MaxPooling2D)  (None, 14, 14, 512)       0         \n",
      "                                                                 \n",
      " block5_conv1 (Conv2D)       (None, 14, 14, 512)       2359808   \n",
      "                                                                 \n",
      " block5_conv2 (Conv2D)       (None, 14, 14, 512)       2359808   \n",
      "                                                                 \n",
      " block5_conv3 (Conv2D)       (None, 14, 14, 512)       2359808   \n",
      "                                                                 \n",
      " block5_pool (MaxPooling2D)  (None, 7, 7, 512)         0         \n",
      "                                                                 \n",
      "=================================================================\n",
      "Total params: 14,714,688\n",
      "Trainable params: 14,714,688\n",
      "Non-trainable params: 0\n",
      "_________________________________________________________________\n"
     ]
    }
   ],
   "source": [
    "# Summary of the whole model\n",
    "from keras.applications.vgg16 import VGG16\n",
    "# Summary of the whole model\n",
    "model = VGG16(weights='imagenet',include_top=False,input_shape=(224,224,3))\n",
    "model.summary()\n"
   ]
  },
  {
   "cell_type": "code",
   "execution_count": null,
   "metadata": {
    "colab": {
     "base_uri": "https://localhost:8080/"
    },
    "id": "OqZNBRIZlAoF",
    "outputId": "959fdf6f-13cc-4339-a910-6bce97aad96f"
   },
   "outputs": [
    {
     "name": "stdout",
     "output_type": "stream",
     "text": [
      "Model: \"vgg16\"\n",
      "_________________________________________________________________\n",
      " Layer (type)                Output Shape              Param #   \n",
      "=================================================================\n",
      " input_1 (InputLayer)        [(None, 224, 224, 3)]     0         \n",
      "                                                                 \n",
      " block1_conv1 (Conv2D)       (None, 224, 224, 64)      1792      \n",
      "                                                                 \n",
      " block1_conv2 (Conv2D)       (None, 224, 224, 64)      36928     \n",
      "                                                                 \n",
      " block1_pool (MaxPooling2D)  (None, 112, 112, 64)      0         \n",
      "                                                                 \n",
      " block2_conv1 (Conv2D)       (None, 112, 112, 128)     73856     \n",
      "                                                                 \n",
      " block2_conv2 (Conv2D)       (None, 112, 112, 128)     147584    \n",
      "                                                                 \n",
      " block2_pool (MaxPooling2D)  (None, 56, 56, 128)       0         \n",
      "                                                                 \n",
      " block3_conv1 (Conv2D)       (None, 56, 56, 256)       295168    \n",
      "                                                                 \n",
      " block3_conv2 (Conv2D)       (None, 56, 56, 256)       590080    \n",
      "                                                                 \n",
      " block3_conv3 (Conv2D)       (None, 56, 56, 256)       590080    \n",
      "                                                                 \n",
      " block3_pool (MaxPooling2D)  (None, 28, 28, 256)       0         \n",
      "                                                                 \n",
      " block4_conv1 (Conv2D)       (None, 28, 28, 512)       1180160   \n",
      "                                                                 \n",
      " block4_conv2 (Conv2D)       (None, 28, 28, 512)       2359808   \n",
      "                                                                 \n",
      " block4_conv3 (Conv2D)       (None, 28, 28, 512)       2359808   \n",
      "                                                                 \n",
      " block4_pool (MaxPooling2D)  (None, 14, 14, 512)       0         \n",
      "                                                                 \n",
      " block5_conv1 (Conv2D)       (None, 14, 14, 512)       2359808   \n",
      "                                                                 \n",
      " block5_conv2 (Conv2D)       (None, 14, 14, 512)       2359808   \n",
      "                                                                 \n",
      " block5_conv3 (Conv2D)       (None, 14, 14, 512)       2359808   \n",
      "                                                                 \n",
      " block5_pool (MaxPooling2D)  (None, 7, 7, 512)         0         \n",
      "                                                                 \n",
      "=================================================================\n",
      "Total params: 14,714,688\n",
      "Trainable params: 14,714,688\n",
      "Non-trainable params: 0\n",
      "_________________________________________________________________\n"
     ]
    }
   ],
   "source": [
    "vgg_model = VGG16(weights='imagenet', include_top = False, input_shape = (224,224,3))\n",
    "vgg_model.summary()"
   ]
  },
  {
   "cell_type": "code",
   "execution_count": null,
   "metadata": {
    "id": "Sp6VYgs-rfLg"
   },
   "outputs": [],
   "source": [
    "# Making all the layers of the VGG model non-trainable. i.e. freezing them\n",
    "for layer in vgg_model.layers:\n",
    "    layer.trainable = False"
   ]
  },
  {
   "cell_type": "code",
   "execution_count": null,
   "metadata": {
    "colab": {
     "base_uri": "https://localhost:8080/"
    },
    "id": "BQHxHwW0rfOV",
    "outputId": "97e3fd13-0a58-4997-d61e-7303494b3922"
   },
   "outputs": [
    {
     "name": "stdout",
     "output_type": "stream",
     "text": [
      "input_1 False\n",
      "block1_conv1 False\n",
      "block1_conv2 False\n",
      "block1_pool False\n",
      "block2_conv1 False\n",
      "block2_conv2 False\n",
      "block2_pool False\n",
      "block3_conv1 False\n",
      "block3_conv2 False\n",
      "block3_conv3 False\n",
      "block3_pool False\n",
      "block4_conv1 False\n",
      "block4_conv2 False\n",
      "block4_conv3 False\n",
      "block4_pool False\n",
      "block5_conv1 False\n",
      "block5_conv2 False\n",
      "block5_conv3 False\n",
      "block5_pool False\n"
     ]
    }
   ],
   "source": [
    "for layer in vgg_model.layers:\n",
    "    print(layer.name, layer.trainable)"
   ]
  },
  {
   "cell_type": "code",
   "execution_count": null,
   "metadata": {
    "id": "2ee5MBZorfRU"
   },
   "outputs": [],
   "source": [
    "new_model = Sequential()\n",
    "\n",
    "# Adding the convolutional part of the VGG16 model from above\n",
    "new_model.add(vgg_model)\n",
    "\n",
    "# Flattening the output of the VGG16 model because it is from a convolutional layer\n",
    "new_model.add(Flatten())\n",
    "\n",
    "# Adding a dense output layer\n",
    "new_model.add(Dense(32, activation='relu'))\n",
    "new_model.add(Dense(16, activation='relu'))\n",
    "new_model.add(Dense(10, activation='softmax'))"
   ]
  },
  {
   "cell_type": "code",
   "execution_count": null,
   "metadata": {
    "colab": {
     "base_uri": "https://localhost:8080/"
    },
    "id": "9ISgT9iyrfTn",
    "outputId": "557543be-b9aa-483f-8f21-9aca1d449106"
   },
   "outputs": [
    {
     "name": "stdout",
     "output_type": "stream",
     "text": [
      "Model: \"sequential\"\n",
      "_________________________________________________________________\n",
      " Layer (type)                Output Shape              Param #   \n",
      "=================================================================\n",
      " vgg16 (Functional)          (None, 7, 7, 512)         14714688  \n",
      "                                                                 \n",
      " flatten (Flatten)           (None, 25088)             0         \n",
      "                                                                 \n",
      " dense (Dense)               (None, 32)                802848    \n",
      "                                                                 \n",
      " dense_1 (Dense)             (None, 16)                528       \n",
      "                                                                 \n",
      " dense_2 (Dense)             (None, 10)                170       \n",
      "                                                                 \n",
      "=================================================================\n",
      "Total params: 15,518,234\n",
      "Trainable params: 803,546\n",
      "Non-trainable params: 14,714,688\n",
      "_________________________________________________________________\n"
     ]
    }
   ],
   "source": [
    "new_model.compile(optimizer='adam', loss='binary_crossentropy', metrics=['accuracy'])\n",
    "new_model.summary()"
   ]
  },
  {
   "cell_type": "code",
   "execution_count": null,
   "metadata": {
    "id": "45sD0DDhrfWd"
   },
   "outputs": [],
   "source": [
    "\n",
    "new_model2 = Sequential()\n",
    "\n",
    "# Adding the convolutional part of the VGG16 model from above\n",
    "new_model2.add(vgg_model)\n",
    "\n",
    "# Flattening the output of the VGG16 model because it is from a convolutional layer\n",
    "new_model2.add(Flatten())\n",
    "\n",
    "# Adding a dense output layer\n",
    "new_model2.add(Dense(32, activation='relu'))\n",
    "new_model2.add(Dense(16, activation='relu'))\n",
    "new_model2.add(Dense(16,activation='relu'))\n",
    "new_model2.add(Dense(10, activation='softmax'))"
   ]
  },
  {
   "cell_type": "code",
   "execution_count": null,
   "metadata": {
    "colab": {
     "base_uri": "https://localhost:8080/"
    },
    "id": "BVHYT-eWrfZB",
    "outputId": "454bbff9-12c1-4b08-aa13-2da6f88a4100",
    "scrolled": true
   },
   "outputs": [
    {
     "name": "stdout",
     "output_type": "stream",
     "text": [
      "Model: \"sequential_2\"\n",
      "_________________________________________________________________\n",
      " Layer (type)                Output Shape              Param #   \n",
      "=================================================================\n",
      " vgg16 (Functional)          (None, 7, 7, 512)         14714688  \n",
      "                                                                 \n",
      " flatten_2 (Flatten)         (None, 25088)             0         \n",
      "                                                                 \n",
      " dense_5 (Dense)             (None, 32)                802848    \n",
      "                                                                 \n",
      " dense_6 (Dense)             (None, 16)                528       \n",
      "                                                                 \n",
      " dense_7 (Dense)             (None, 16)                272       \n",
      "                                                                 \n",
      " dense_8 (Dense)             (None, 10)                170       \n",
      "                                                                 \n",
      "=================================================================\n",
      "Total params: 15,518,506\n",
      "Trainable params: 803,818\n",
      "Non-trainable params: 14,714,688\n",
      "_________________________________________________________________\n"
     ]
    }
   ],
   "source": [
    "new_model2.compile(optimizer='adam', loss='binary_crossentropy', metrics=['accuracy'])\n",
    "new_model2.summary()"
   ]
  },
  {
   "cell_type": "markdown",
   "metadata": {
    "id": "atAwhIN4dk5R"
   },
   "source": [
    "Let's now build a **sequential ANN model.**"
   ]
  },
  {
   "cell_type": "code",
   "execution_count": null,
   "metadata": {
    "colab": {
     "base_uri": "https://localhost:8080/"
    },
    "id": "hJ0qk6Mndqk0",
    "outputId": "f0d5ccc1-354f-4209-8f8c-bb460503e1ca"
   },
   "outputs": [
    {
     "name": "stdout",
     "output_type": "stream",
     "text": [
      "Model: \"sequential\"\n",
      "_________________________________________________________________\n",
      " Layer (type)                Output Shape              Param #   \n",
      "=================================================================\n",
      " flatten (Flatten)           (None, 784)               0         \n",
      "                                                                 \n",
      " dense (Dense)               (None, 100)               78500     \n",
      "                                                                 \n",
      " dense_1 (Dense)             (None, 10)                1010      \n",
      "                                                                 \n",
      "=================================================================\n",
      "Total params: 79,510\n",
      "Trainable params: 79,510\n",
      "Non-trainable params: 0\n",
      "_________________________________________________________________\n"
     ]
    }
   ],
   "source": [
    "# Intializing a sequential model\n",
    "ann_model = Sequential()\n",
    "\n",
    "# Flatten the input to add dense convolutional layers on top of it\n",
    "ann_model.add(Flatten(input_shape=(28, 28)))\n",
    "\n",
    "# Adding a sequential layer with 100 neurons\n",
    "ann_model.add(Dense(100, activation='relu'))\n",
    "\n",
    "# Adding the output layer with 10 neurons and activation functions as softmax since this is a multi-class classification problem  \n",
    "ann_model.add(Dense(10, activation='softmax'))\n",
    "\n",
    "# Using SGD Optimizer\n",
    "opt = SGD(learning_rate=0.01, momentum=0.9)\n",
    "\n",
    "# Compile model\n",
    "ann_model.compile(optimizer=opt,\n",
    "              loss='categorical_crossentropy',\n",
    "              metrics=['accuracy'])\n",
    "\n",
    "# Generating the summary of the model\n",
    "ann_model.summary()"
   ]
  },
  {
   "cell_type": "markdown",
   "metadata": {
    "id": "eE4IElpAj6YG"
   },
   "source": [
    "<b> Fitting the model on the train data:"
   ]
  },
  {
   "cell_type": "code",
   "execution_count": null,
   "metadata": {
    "colab": {
     "base_uri": "https://localhost:8080/"
    },
    "id": "5AWAwzqyeh9r",
    "outputId": "482ee515-bf81-4043-f190-97505644d4cc"
   },
   "outputs": [
    {
     "name": "stdout",
     "output_type": "stream",
     "text": [
      "Epoch 1/15\n",
      "844/844 - 4s - loss: 0.4176 - accuracy: 0.8819 - val_loss: 0.2073 - val_accuracy: 0.9413 - 4s/epoch - 5ms/step\n",
      "Epoch 2/15\n",
      "844/844 - 2s - loss: 0.2185 - accuracy: 0.9378 - val_loss: 0.1574 - val_accuracy: 0.9577 - 2s/epoch - 2ms/step\n",
      "Epoch 3/15\n",
      "844/844 - 2s - loss: 0.1653 - accuracy: 0.9529 - val_loss: 0.1271 - val_accuracy: 0.9653 - 2s/epoch - 2ms/step\n",
      "Epoch 4/15\n",
      "844/844 - 2s - loss: 0.1351 - accuracy: 0.9621 - val_loss: 0.1139 - val_accuracy: 0.9670 - 2s/epoch - 2ms/step\n",
      "Epoch 5/15\n",
      "844/844 - 2s - loss: 0.1147 - accuracy: 0.9671 - val_loss: 0.1030 - val_accuracy: 0.9700 - 2s/epoch - 2ms/step\n",
      "Epoch 6/15\n",
      "844/844 - 2s - loss: 0.0996 - accuracy: 0.9720 - val_loss: 0.0938 - val_accuracy: 0.9730 - 2s/epoch - 2ms/step\n",
      "Epoch 7/15\n",
      "844/844 - 2s - loss: 0.0880 - accuracy: 0.9750 - val_loss: 0.0876 - val_accuracy: 0.9762 - 2s/epoch - 2ms/step\n",
      "Epoch 8/15\n",
      "844/844 - 2s - loss: 0.0785 - accuracy: 0.9775 - val_loss: 0.0858 - val_accuracy: 0.9765 - 2s/epoch - 2ms/step\n",
      "Epoch 9/15\n",
      "844/844 - 2s - loss: 0.0706 - accuracy: 0.9802 - val_loss: 0.0836 - val_accuracy: 0.9757 - 2s/epoch - 2ms/step\n",
      "Epoch 10/15\n",
      "844/844 - 2s - loss: 0.0648 - accuracy: 0.9814 - val_loss: 0.0802 - val_accuracy: 0.9767 - 2s/epoch - 2ms/step\n",
      "Epoch 11/15\n",
      "844/844 - 2s - loss: 0.0585 - accuracy: 0.9837 - val_loss: 0.0757 - val_accuracy: 0.9783 - 2s/epoch - 2ms/step\n",
      "Epoch 12/15\n",
      "844/844 - 2s - loss: 0.0542 - accuracy: 0.9850 - val_loss: 0.0780 - val_accuracy: 0.9785 - 2s/epoch - 2ms/step\n",
      "Epoch 13/15\n",
      "844/844 - 2s - loss: 0.0497 - accuracy: 0.9867 - val_loss: 0.0745 - val_accuracy: 0.9788 - 2s/epoch - 2ms/step\n",
      "Epoch 14/15\n",
      "844/844 - 2s - loss: 0.0458 - accuracy: 0.9877 - val_loss: 0.0739 - val_accuracy: 0.9780 - 2s/epoch - 2ms/step\n",
      "Epoch 15/15\n",
      "844/844 - 2s - loss: 0.0423 - accuracy: 0.9887 - val_loss: 0.0746 - val_accuracy: 0.9785 - 2s/epoch - 2ms/step\n"
     ]
    }
   ],
   "source": [
    "history = ann_model.fit(\n",
    "            X_train_normalized, y_train_encoded,\n",
    "            epochs=15,\n",
    "            validation_split=0.1,\n",
    "            shuffle=True,\n",
    "            batch_size=64,\n",
    "            verbose=2\n",
    ")"
   ]
  },
  {
   "cell_type": "markdown",
   "metadata": {
    "id": "mj3Skz2IkmfZ"
   },
   "source": [
    "### **Model Evaluation**"
   ]
  },
  {
   "cell_type": "code",
   "execution_count": null,
   "metadata": {
    "colab": {
     "base_uri": "https://localhost:8080/",
     "height": 295
    },
    "id": "pD6WR40cj19z",
    "outputId": "cce01984-07fb-4416-b0b8-cbe5ba980a9f"
   },
   "outputs": [
    {
     "data": {
      "image/png": "[encoded data removed]",
      "text/plain": [
       "<Figure size 432x288 with 1 Axes>"
      ]
     },
     "metadata": {
      "needs_background": "light"
     },
     "output_type": "display_data"
    }
   ],
   "source": [
    "plt.plot(history.history['accuracy'])\n",
    "plt.plot(history.history['val_accuracy'])\n",
    "plt.title('Model Accuracy')\n",
    "plt.ylabel('Accuracy')\n",
    "plt.xlabel('Epoch')\n",
    "plt.legend(['Train', 'Validation'], loc='upper left')\n",
    "plt.show()"
   ]
  },
  {
   "cell_type": "markdown",
   "metadata": {
    "id": "03Fan60bkxH2"
   },
   "source": [
    "**Observations:** \n",
    "\n",
    "*   We can see from the above plot that the model has perfomed well on the train and validation data, with a **validation accuracy of 97%.**\n"
   ]
  },
  {
   "cell_type": "markdown",
   "metadata": {
    "id": "1kik69fBo7xp"
   },
   "source": [
    "### **Evaluating the model on the test data**"
   ]
  },
  {
   "cell_type": "code",
   "execution_count": null,
   "metadata": {
    "colab": {
     "base_uri": "https://localhost:8080/"
    },
    "id": "rTEu-Aprj2A3",
    "outputId": "61bd9d39-bd92-44d9-bbb5-56c5fa62fb8a"
   },
   "outputs": [
    {
     "name": "stdout",
     "output_type": "stream",
     "text": [
      "313/313 - 1s - loss: 0.0775 - accuracy: 0.9762 - 549ms/epoch - 2ms/step\n"
     ]
    }
   ],
   "source": [
    "accuracy = ann_model.evaluate(X_test_normalized, y_test_encoded, verbose=2)"
   ]
  },
  {
   "cell_type": "markdown",
   "metadata": {
    "id": "b5dNWxWPpEiv"
   },
   "source": [
    "### **Generating the Predictions using the test data**"
   ]
  },
  {
   "cell_type": "code",
   "execution_count": null,
   "metadata": {
    "id": "2vMod71Yj2EC"
   },
   "outputs": [],
   "source": [
    "# Here we would get the output as probablities for each category\n",
    "y_pred=ann_model.predict(X_test_normalized)"
   ]
  },
  {
   "cell_type": "markdown",
   "metadata": {
    "id": "gGRaZwofpPZn"
   },
   "source": [
    "### **Plotting the Confusion Matrix**"
   ]
  },
  {
   "cell_type": "code",
   "execution_count": null,
   "metadata": {
    "colab": {
     "base_uri": "https://localhost:8080/",
     "height": 483
    },
    "id": "kAmRdeS-pZk5",
    "outputId": "c95542e8-94f9-4eea-9851-ba7d21c74673",
    "scrolled": true
   },
   "outputs": [
    {
     "data": {
      "image/png": "[encoded data removed]",
      "text/plain": [
       "<Figure size 720x576 with 2 Axes>"
      ]
     },
     "metadata": {
      "needs_background": "light"
     },
     "output_type": "display_data"
    }
   ],
   "source": [
    "# Obtaining the categorical values from y_test_encoded and y_pred\n",
    "y_pred_arg=np.argmax(y_pred,axis=1)\n",
    "y_test_arg=np.argmax(y_test_encoded,axis=1)\n",
    "\n",
    "# Plotting the Confusion Matrix using confusion matrix() function which is also predefined tensorflow module\n",
    "confusion_matrix = tf.math.confusion_matrix(y_test_arg,y_pred_arg)\n",
    "f, ax = plt.subplots(figsize=(10, 8))\n",
    "sns.heatmap(\n",
    "    confusion_matrix,\n",
    "    annot=True,\n",
    "    linewidths=.4,\n",
    "    fmt=\"d\",\n",
    "    square=True,\n",
    "    ax=ax\n",
    ")\n",
    "plt.show()"
   ]
  },
  {
   "cell_type": "markdown",
   "metadata": {
    "id": "Nb5FsNLvpX7m"
   },
   "source": [
    "**We observe that most of the classes are predicted correctly**, and the misclassification occurs mostly with the digit 4 which is sometimes confused with digit 9, and digit 5 which is sometimes confused with digit 3."
   ]
  },
  {
   "cell_type": "markdown",
   "metadata": {
    "id": "0Y83Pa4ENG3H"
   },
   "source": [
    "## **Model Building - Convolutional Neural Network (CNN)**"
   ]
  },
  {
   "cell_type": "markdown",
   "metadata": {
    "id": "u-3u1necDYEY"
   },
   "source": [
    "Let's create a CNN model sequentially, where we will be adding the layers one after another."
   ]
  },
  {
   "cell_type": "code",
   "execution_count": null,
   "metadata": {
    "id": "Q5AwVYZ2j0nx"
   },
   "outputs": [],
   "source": [
    "# Clearing backend\n",
    "from tensorflow.keras import backend\n",
    "backend.clear_session()"
   ]
  },
  {
   "cell_type": "code",
   "execution_count": null,
   "metadata": {
    "id": "NcxvHDk9-qWD"
   },
   "outputs": [],
   "source": [
    "# Fixing the seed for random number generators\n",
    "import random\n",
    "np.random.seed(42)\n",
    "random.seed(42)\n",
    "tf.random.set_seed(42)"
   ]
  },
  {
   "cell_type": "code",
   "execution_count": null,
   "metadata": {
    "colab": {
     "base_uri": "https://localhost:8080/"
    },
    "id": "1jur1qN2EGK0",
    "outputId": "c847a804-13f0-4020-eddd-b507e7840a7f"
   },
   "outputs": [
    {
     "name": "stdout",
     "output_type": "stream",
     "text": [
      "Model: \"sequential_6\"\n",
      "_________________________________________________________________\n",
      " Layer (type)                Output Shape              Param #   \n",
      "=================================================================\n",
      " conv2d_6 (Conv2D)           (None, 28, 28, 64)        640       \n",
      "                                                                 \n",
      " max_pooling2d_6 (MaxPooling  (None, 14, 14, 64)       0         \n",
      " 2D)                                                             \n",
      "                                                                 \n",
      " flatten_6 (Flatten)         (None, 12544)             0         \n",
      "                                                                 \n",
      " dense_12 (Dense)            (None, 100)               1254500   \n",
      "                                                                 \n",
      " dense_13 (Dense)            (None, 10)                1010      \n",
      "                                                                 \n",
      "=================================================================\n",
      "Total params: 1,256,150\n",
      "Trainable params: 1,256,150\n",
      "Non-trainable params: 0\n",
      "_________________________________________________________________\n"
     ]
    }
   ],
   "source": [
    "# Intializing a sequential model\n",
    "model = Sequential()\n",
    "#The input shape to the conv2D will be (28,28,1), number of filters = 64, kernel size = (3,3), ,  activation function 'relu', and padding='same'\n",
    "# Adding first conv layer with 64 filters and kernel size 3x3 , padding 'same' provides the output size same as the input size\n",
    "# Input_shape denotes input image dimension of MNIST images\n",
    "model.add(Conv2D(64, (3, 3), activation='relu', padding=\"same\", input_shape=(28, 28, 1)))\n",
    "\n",
    "# Adding max pooling to reduce the size of output of first conv layer\n",
    "model.add(MaxPooling2D((2, 2), padding = 'same'))\n",
    "\n",
    "#model.add(Conv2D(32, (3, 3), activation='relu', padding=\"same\"))\n",
    "#model.add(MaxPooling2D((2, 2), padding = 'same'))\n",
    "#model.add(Conv2D(32, (3, 3), activation='relu', padding=\"same\"))\n",
    "#model.add(MaxPooling2D((2, 2), padding = 'same'))\n",
    "\n",
    "# flattening the output of the conv layer after max pooling to make it ready for creating dense connections\n",
    "model.add(Flatten())\n",
    "\n",
    "# Adding a fully connected dense layer with 100 neurons    \n",
    "model.add(Dense(100, activation='relu'))\n",
    "\n",
    "# Adding the output layer with 10 neurons and activation functions as softmax since this is a multi-class classification problem  \n",
    "model.add(Dense(10, activation='softmax'))\n",
    "\n",
    "# Using SGD Optimizer\n",
    "opt = tf.keras.optimizers.Adam(learning_rate=0.01)\n",
    "\n",
    "# Compile model\n",
    "model.compile(optimizer=opt, loss='categorical_crossentropy', metrics=['accuracy'])\n",
    "\n",
    "# Generating the summary of the model\n",
    "model.summary()"
   ]
  },
  {
   "cell_type": "markdown",
   "metadata": {
    "id": "K23aF68_FHEw"
   },
   "source": [
    "### <b> Fitting the model on the train data"
   ]
  },
  {
   "cell_type": "code",
   "execution_count": null,
   "metadata": {
    "colab": {
     "base_uri": "https://localhost:8080/"
    },
    "id": "Er5k1jYG7waV",
    "outputId": "250191df-04ca-4526-8bd8-ac1877d66fa8"
   },
   "outputs": [
    {
     "name": "stdout",
     "output_type": "stream",
     "text": [
      "Epoch 1/5\n",
      "844/844 - 16s - loss: 0.4269 - accuracy: 0.8522 - val_loss: 0.3035 - val_accuracy: 0.8907 - 16s/epoch - 18ms/step\n",
      "Epoch 2/5\n",
      "844/844 - 6s - loss: 0.2838 - accuracy: 0.8944 - val_loss: 0.3045 - val_accuracy: 0.8888 - 6s/epoch - 7ms/step\n",
      "Epoch 3/5\n",
      "844/844 - 6s - loss: 0.2419 - accuracy: 0.9101 - val_loss: 0.3293 - val_accuracy: 0.8883 - 6s/epoch - 7ms/step\n",
      "Epoch 4/5\n",
      "844/844 - 6s - loss: 0.2160 - accuracy: 0.9182 - val_loss: 0.2987 - val_accuracy: 0.8988 - 6s/epoch - 7ms/step\n",
      "Epoch 5/5\n",
      "844/844 - 6s - loss: 0.1955 - accuracy: 0.9286 - val_loss: 0.3454 - val_accuracy: 0.8972 - 6s/epoch - 7ms/step\n"
     ]
    }
   ],
   "source": [
    "history_1 = model.fit(\n",
    "            X_train_normalized, y_train_encoded,\n",
    "            epochs=5,\n",
    "            validation_split=0.1,\n",
    "            shuffle=True,\n",
    "            batch_size=64,\n",
    "            verbose=2\n",
    ")"
   ]
  },
  {
   "cell_type": "markdown",
   "metadata": {
    "id": "J0nAM75hf8KZ"
   },
   "source": [
    "### **Model Evaluation**"
   ]
  },
  {
   "cell_type": "code",
   "execution_count": null,
   "metadata": {
    "colab": {
     "base_uri": "https://localhost:8080/",
     "height": 295
    },
    "id": "JWLrPdNwGWpH",
    "outputId": "b27200ef-0471-45cf-f327-c964576de548"
   },
   "outputs": [
    {
     "data": {
      "image/png": "[encoded data removed]",
      "text/plain": [
       "<Figure size 432x288 with 1 Axes>"
      ]
     },
     "metadata": {
      "needs_background": "light"
     },
     "output_type": "display_data"
    }
   ],
   "source": [
    "plt.plot(history_1.history['accuracy'])\n",
    "plt.plot(history_1.history['val_accuracy'])\n",
    "plt.title('Model Accuracy')\n",
    "plt.ylabel('Accuracy')\n",
    "plt.xlabel('Epoch')\n",
    "plt.legend(['Train', 'Validation'], loc='upper left')\n",
    "plt.show()"
   ]
  },
  {
   "cell_type": "markdown",
   "metadata": {
    "id": "rKJ6YR_bawrp"
   },
   "source": [
    "**Observations:** \n",
    "\n",
    "\n",
    "*   We can see from the above plot that **the model has perfomed well on train and validation data with a validation accuracy of 98%.**\n",
    "\n",
    "\n",
    "\n",
    "\n"
   ]
  },
  {
   "cell_type": "markdown",
   "metadata": {
    "id": "x2sRP3ovbCJL"
   },
   "source": [
    "### **Evaluating the model on test data**"
   ]
  },
  {
   "cell_type": "code",
   "execution_count": null,
   "metadata": {
    "colab": {
     "base_uri": "https://localhost:8080/"
    },
    "id": "LK3DlKQoGJMc",
    "outputId": "9bdcd0e6-0707-4a7b-fd54-358773854d36"
   },
   "outputs": [
    {
     "name": "stdout",
     "output_type": "stream",
     "text": [
      "313/313 - 1s - loss: 0.3634 - accuracy: 0.8886 - 1s/epoch - 3ms/step\n"
     ]
    }
   ],
   "source": [
    "accuracy = model.evaluate(X_test_normalized, y_test_encoded, verbose=2)"
   ]
  },
  {
   "cell_type": "markdown",
   "metadata": {
    "id": "gighSgusgBeM"
   },
   "source": [
    "### **Generating the predictions using test data**"
   ]
  },
  {
   "cell_type": "code",
   "execution_count": null,
   "metadata": {
    "id": "sYbj9qSidOoV"
   },
   "outputs": [],
   "source": [
    "# Here we would get the output as probablities for each category\n",
    "y_pred=model.predict(X_test_normalized)"
   ]
  },
  {
   "cell_type": "code",
   "execution_count": null,
   "metadata": {
    "colab": {
     "base_uri": "https://localhost:8080/"
    },
    "id": "QL7QVdIeg6ci",
    "outputId": "62bafec0-3521-4230-91c0-0f95e4cb0b75"
   },
   "outputs": [
    {
     "data": {
      "text/plain": [
       "array([[1.90462770e-16, 3.84880306e-13, 2.35582359e-10, ...,\n",
       "        1.00000000e+00, 5.84065216e-16, 1.56107267e-12],\n",
       "       [3.40661483e-12, 9.61562913e-11, 1.00000000e+00, ...,\n",
       "        2.93468826e-11, 4.27324522e-15, 2.79819875e-16],\n",
       "       [3.45358018e-08, 9.99987841e-01, 1.15408774e-07, ...,\n",
       "        7.84916210e-06, 2.63238394e-06, 5.44855311e-07],\n",
       "       ...,\n",
       "       [4.87154747e-16, 1.78744844e-12, 4.15244747e-16, ...,\n",
       "        7.62496385e-11, 8.90395049e-11, 9.03232350e-11],\n",
       "       [3.91514876e-10, 4.62680332e-18, 5.66047766e-16, ...,\n",
       "        3.22405304e-14, 2.09865718e-07, 5.64922322e-14],\n",
       "       [9.28946481e-13, 2.51747492e-14, 1.55210789e-10, ...,\n",
       "        7.20291145e-19, 5.13860308e-12, 4.67404824e-17]], dtype=float32)"
      ]
     },
     "execution_count": 28,
     "metadata": {},
     "output_type": "execute_result"
    }
   ],
   "source": [
    "y_pred"
   ]
  },
  {
   "cell_type": "markdown",
   "metadata": {
    "id": "7f8u1cOufv4R"
   },
   "source": [
    "### **Plotting the Confusion Matrix**"
   ]
  },
  {
   "cell_type": "code",
   "execution_count": null,
   "metadata": {
    "colab": {
     "base_uri": "https://localhost:8080/",
     "height": 483
    },
    "id": "IavJcIuDT0s6",
    "outputId": "7b64dce3-ac44-4be5-a362-3cc0281319de"
   },
   "outputs": [
    {
     "data": {
      "image/png": "[encoded data removed]",
      "text/plain": [
       "<Figure size 720x576 with 2 Axes>"
      ]
     },
     "metadata": {
      "needs_background": "light"
     },
     "output_type": "display_data"
    }
   ],
   "source": [
    "# Obtaining the categorical values from y_test_encoded and y_pred\n",
    "y_pred_arg=np.argmax(y_pred,axis=1)\n",
    "y_test_arg=np.argmax(y_test_encoded,axis=1)\n",
    "\n",
    "# Plotting the Confusion Matrix using confusion matrix() function which is also predefined tensorflow module\n",
    "confusion_matrix = tf.math.confusion_matrix(y_test_arg,y_pred_arg)\n",
    "f, ax = plt.subplots(figsize=(10, 8))\n",
    "sns.heatmap(\n",
    "    confusion_matrix,\n",
    "    annot=True,\n",
    "    linewidths=.4,\n",
    "    fmt=\"d\",\n",
    "    square=True,\n",
    "    ax=ax\n",
    ")\n",
    "plt.show()"
   ]
  },
  {
   "cell_type": "markdown",
   "metadata": {
    "id": "L3rR9A-hk86M"
   },
   "source": [
    "We observe that most of the classes are predicted correctly. \n",
    "\n",
    "The misclassification mostly with the the digits 4 and 8, which are confused with digit 9."
   ]
  }
 ],
 "metadata": {
  "accelerator": "GPU",
  "colab": {
   "collapsed_sections": [
    "mj3Skz2IkmfZ",
    "1kik69fBo7xp",
    "b5dNWxWPpEiv",
    "K23aF68_FHEw",
    "J0nAM75hf8KZ"
   ],
   "name": "Copy of transferlearn-vgg16-fashionmnist.ipynb",
   "provenance": []
  },
  "kernelspec": {
   "display_name": "Python 3",
   "language": "python",
   "name": "python3"
  },
  "language_info": {
   "codemirror_mode": {
    "name": "ipython",
    "version": 3
   },
   "file_extension": ".py",
   "mimetype": "text/x-python",
   "name": "python",
   "nbconvert_exporter": "python",
   "pygments_lexer": "ipython3",
   "version": "3.8.8"
  }
 },
 "nbformat": 4,
 "nbformat_minor": 1
}
